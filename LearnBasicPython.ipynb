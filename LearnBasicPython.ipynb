{
  "nbformat": 4,
  "nbformat_minor": 0,
  "metadata": {
    "colab": {
      "provenance": [],
      "authorship_tag": "ABX9TyOVNbXm+f4C/KoM7bgK9UE6",
      "include_colab_link": true
    },
    "kernelspec": {
      "name": "python3",
      "display_name": "Python 3"
    },
    "language_info": {
      "name": "python"
    }
  },
  "cells": [
    {
      "cell_type": "markdown",
      "metadata": {
        "id": "view-in-github",
        "colab_type": "text"
      },
      "source": [
        "<a href=\"https://colab.research.google.com/github/A-Berton/python_exos/blob/main/LearnBasicPython.ipynb\" target=\"_parent\"><img src=\"https://colab.research.google.com/assets/colab-badge.svg\" alt=\"Open In Colab\"/></a>"
      ]
    },
    {
      "cell_type": "code",
      "execution_count": null,
      "metadata": {
        "colab": {
          "base_uri": "https://localhost:8080/"
        },
        "id": "a9M1SB49rXAL",
        "outputId": "b795bb75-ce43-4a44-eaed-f1d15b18b8dc"
      },
      "outputs": [
        {
          "output_type": "stream",
          "name": "stdout",
          "text": [
            "Jane\n"
          ]
        }
      ],
      "source": [
        "name = \"Jane\"\n",
        "num = 123\n",
        "name2 = 'Jake'\n",
        "print(name)"
      ]
    },
    {
      "cell_type": "code",
      "source": [
        "#this is a tuples, but you have fewer possibilities (you can count them) = a collection that is ordered and unchangeable than with list, witch have plenty of methods available\n",
        "names_tuples = ('Jane', 'Olivia', 'Lisa', 'Rose')"
      ],
      "metadata": {
        "id": "fPjChWmdbhbt"
      },
      "execution_count": null,
      "outputs": []
    },
    {
      "cell_type": "code",
      "source": [
        "# a set is a collection that is unordered and unindexed, no duplicate\n",
        "fruit_set = {\"apple\", \"pear\",\"raspberry\"}\n",
        "#check if in a set\n",
        "print(\"apple\" in fruit_set)\n",
        "fruit_set.add(\"grape\")\n",
        "print(fruit_set)\n",
        "fruit_set.remove(\"pear\")\n",
        "print(fruit_set)\n",
        "fruit_set.clear()\n",
        "print(fruit_set)\n",
        "#fruit_set.remove() // del fruit_set\n",
        "#print(fruit_set) => produce an error the set doesn't exist anymore"
      ],
      "metadata": {
        "colab": {
          "base_uri": "https://localhost:8080/"
        },
        "id": "HMy-mzCnVCMf",
        "outputId": "dd8873b0-981f-4942-9bae-688459028b5b"
      },
      "execution_count": null,
      "outputs": [
        {
          "output_type": "stream",
          "name": "stdout",
          "text": [
            "True\n",
            "{'apple', 'pear', 'raspberry', 'grape'}\n",
            "{'apple', 'raspberry', 'grape'}\n",
            "set()\n"
          ]
        }
      ]
    },
    {
      "cell_type": "code",
      "source": [
        "names = ['Jane', 'Olivia', 'Lisa', 'Rose']\n",
        "names[1]\n",
        "names[1:3]\n",
        "names[2:]"
      ],
      "metadata": {
        "colab": {
          "base_uri": "https://localhost:8080/"
        },
        "id": "kWN7IZ0rsPM2",
        "outputId": "2ad3b92b-2b5a-400c-c400-d39b2317ec44"
      },
      "execution_count": null,
      "outputs": [
        {
          "output_type": "execute_result",
          "data": {
            "text/plain": [
              "['Lisa', 'Rose']"
            ]
          },
          "metadata": {},
          "execution_count": 6
        }
      ]
    },
    {
      "cell_type": "code",
      "source": [
        "names2 = [\"Fred\", \"Loic\"]\n",
        "names2[1]"
      ],
      "metadata": {
        "colab": {
          "base_uri": "https://localhost:8080/",
          "height": 35
        },
        "id": "blw9sEWZwGPQ",
        "outputId": "120d5df6-41ce-445b-8a8b-d3ddfb05b044"
      },
      "execution_count": null,
      "outputs": [
        {
          "output_type": "execute_result",
          "data": {
            "text/plain": [
              "'Loic'"
            ],
            "application/vnd.google.colaboratory.intrinsic+json": {
              "type": "string"
            }
          },
          "metadata": {},
          "execution_count": 7
        }
      ]
    },
    {
      "cell_type": "code",
      "source": [
        "names_combined = names + names2\n",
        "print(names_combined)"
      ],
      "metadata": {
        "colab": {
          "base_uri": "https://localhost:8080/"
        },
        "id": "g6pPqFVVvjc3",
        "outputId": "369acb32-bdba-47de-a8b4-dba13ea1924b"
      },
      "execution_count": null,
      "outputs": [
        {
          "output_type": "stream",
          "name": "stdout",
          "text": [
            "['Jane', 'Olivia', 'Lisa', 'Rose', 'Fred', 'Loic']\n"
          ]
        }
      ]
    },
    {
      "cell_type": "code",
      "source": [
        "names_combined[1:-2]"
      ],
      "metadata": {
        "colab": {
          "base_uri": "https://localhost:8080/"
        },
        "id": "MGX1k5zvwmy7",
        "outputId": "3dd04114-da3e-4a3d-f7fc-a88cebbe9dca"
      },
      "execution_count": null,
      "outputs": [
        {
          "output_type": "execute_result",
          "data": {
            "text/plain": [
              "['Olivia', 'Lisa', 'Rose']"
            ]
          },
          "metadata": {},
          "execution_count": 9
        }
      ]
    },
    {
      "cell_type": "code",
      "source": [
        "products = [[\"Jupes\", 74],[\"Chaussures\", 43], [\"Lunettes\",138]]"
      ],
      "metadata": {
        "id": "FuUXDoELw5ZJ"
      },
      "execution_count": null,
      "outputs": []
    },
    {
      "cell_type": "code",
      "source": [
        "products2 = [[\"Crayons\", 7],[\"Stylos\", 430], [\"Téléphones\",1]]"
      ],
      "metadata": {
        "id": "L98Gt_Vqxhr6"
      },
      "execution_count": null,
      "outputs": []
    },
    {
      "cell_type": "code",
      "source": [
        "products[1:]"
      ],
      "metadata": {
        "colab": {
          "base_uri": "https://localhost:8080/"
        },
        "id": "oToA_XcAxx3C",
        "outputId": "fa19049f-80e2-4535-c199-f908a26f5de2"
      },
      "execution_count": null,
      "outputs": [
        {
          "output_type": "execute_result",
          "data": {
            "text/plain": [
              "[['Chaussures', 43], ['Lunettes', 138]]"
            ]
          },
          "metadata": {},
          "execution_count": 12
        }
      ]
    },
    {
      "cell_type": "code",
      "source": [
        "combined_products = products[1:] +  products2\n",
        "print(combined_products)"
      ],
      "metadata": {
        "colab": {
          "base_uri": "https://localhost:8080/"
        },
        "id": "MPC3beHOx8ET",
        "outputId": "db3f1a6e-a1d2-4d9e-df7d-cd0210f290e7"
      },
      "execution_count": null,
      "outputs": [
        {
          "output_type": "stream",
          "name": "stdout",
          "text": [
            "[['Chaussures', 43], ['Lunettes', 138], ['Crayons', 7], ['Stylos', 430], ['Téléphones', 1]]\n"
          ]
        }
      ]
    },
    {
      "cell_type": "code",
      "source": [
        "combined_products[:-2]"
      ],
      "metadata": {
        "colab": {
          "base_uri": "https://localhost:8080/"
        },
        "id": "ZPYW5WOGould",
        "outputId": "932192dc-a439-45ba-9967-4b6f8d7983a5"
      },
      "execution_count": null,
      "outputs": [
        {
          "output_type": "execute_result",
          "data": {
            "text/plain": [
              "[['Chaussures', 43], ['Lunettes', 138], ['Crayons', 7]]"
            ]
          },
          "metadata": {},
          "execution_count": 14
        }
      ]
    },
    {
      "cell_type": "code",
      "source": [
        "age = 25\n",
        "pregnant = True\n",
        "if 18<age<120 and  pregnant == False:\n",
        "  print(\"You can buy a drink!\")\n",
        "elif age<10 :\n",
        "  print(\"You should not be asking this question!\")\n",
        "elif 18<age<120 and  pregnant == True:\n",
        "  print(\"You should not be asking this question!\")\n",
        "elif age>120 :\n",
        "  print(\"Really?\")\n",
        "else:\n",
        "  print(\"You cannot buy a drink\")"
      ],
      "metadata": {
        "colab": {
          "base_uri": "https://localhost:8080/"
        },
        "id": "crGw0KorplvF",
        "outputId": "631d090c-a694-4b2e-a912-d91c0618ae08"
      },
      "execution_count": null,
      "outputs": [
        {
          "output_type": "stream",
          "name": "stdout",
          "text": [
            "You should not be asking this question!\n"
          ]
        }
      ]
    },
    {
      "cell_type": "code",
      "source": [
        "for i in range(0,5):\n",
        "  print(i)"
      ],
      "metadata": {
        "colab": {
          "base_uri": "https://localhost:8080/"
        },
        "id": "OBX_Ycj6YGQg",
        "outputId": "65cff41b-9b4e-422d-9571-8b51ca5039f4"
      },
      "execution_count": null,
      "outputs": [
        {
          "output_type": "stream",
          "name": "stdout",
          "text": [
            "0\n",
            "1\n",
            "2\n",
            "3\n",
            "4\n"
          ]
        }
      ]
    },
    {
      "cell_type": "code",
      "source": [
        "for product in products:\n",
        "  print(product)"
      ],
      "metadata": {
        "colab": {
          "base_uri": "https://localhost:8080/"
        },
        "id": "rZAUXh00Yan2",
        "outputId": "43dfb818-e965-42fe-e248-77045b42e462"
      },
      "execution_count": null,
      "outputs": [
        {
          "output_type": "stream",
          "name": "stdout",
          "text": [
            "['Jupes', 74]\n",
            "['Chaussures', 43]\n",
            "['Lunettes', 138]\n"
          ]
        }
      ]
    },
    {
      "cell_type": "code",
      "source": [
        "#dictionaries ~ objects in js\n",
        "person = {\"name\": \"Loic\", \"age\": \"23\"}\n",
        "#if you use a property that doesn't exist you get an error\n",
        "person[\"name\"]"
      ],
      "metadata": {
        "colab": {
          "base_uri": "https://localhost:8080/",
          "height": 35
        },
        "id": "vOGdha_QY1fl",
        "outputId": "5d6ff0ea-4605-44a1-806d-8f4a084149c3"
      },
      "execution_count": null,
      "outputs": [
        {
          "output_type": "execute_result",
          "data": {
            "text/plain": [
              "'Loic'"
            ],
            "application/vnd.google.colaboratory.intrinsic+json": {
              "type": "string"
            }
          },
          "metadata": {},
          "execution_count": 18
        }
      ]
    },
    {
      "cell_type": "code",
      "source": [
        "#if you use get and use a property that doesn't exist you don't get an error, you get nothing\n",
        "person.get(\"age\")"
      ],
      "metadata": {
        "colab": {
          "base_uri": "https://localhost:8080/",
          "height": 35
        },
        "id": "BUf-9OmDaCbd",
        "outputId": "09c951af-abec-44f7-bfe2-734fe833548e"
      },
      "execution_count": null,
      "outputs": [
        {
          "output_type": "execute_result",
          "data": {
            "text/plain": [
              "'23'"
            ],
            "application/vnd.google.colaboratory.intrinsic+json": {
              "type": "string"
            }
          },
          "metadata": {},
          "execution_count": 19
        }
      ]
    },
    {
      "cell_type": "code",
      "source": [
        "#you can use a default property if you are not sure\n",
        "person.get(\"phone\", \"not found\")"
      ],
      "metadata": {
        "colab": {
          "base_uri": "https://localhost:8080/",
          "height": 35
        },
        "id": "i6NjsEuYaNqE",
        "outputId": "6357c966-144d-4140-f8ba-dbaa76cbca74"
      },
      "execution_count": null,
      "outputs": [
        {
          "output_type": "execute_result",
          "data": {
            "text/plain": [
              "'not found'"
            ],
            "application/vnd.google.colaboratory.intrinsic+json": {
              "type": "string"
            }
          },
          "metadata": {},
          "execution_count": 20
        }
      ]
    },
    {
      "cell_type": "code",
      "source": [
        "person.keys()"
      ],
      "metadata": {
        "colab": {
          "base_uri": "https://localhost:8080/"
        },
        "id": "WwJMH1NMa_z3",
        "outputId": "d5bf592d-6508-478a-c5ed-a81c1af18016"
      },
      "execution_count": null,
      "outputs": [
        {
          "output_type": "execute_result",
          "data": {
            "text/plain": [
              "dict_keys(['name', 'age'])"
            ]
          },
          "metadata": {},
          "execution_count": 21
        }
      ]
    },
    {
      "cell_type": "code",
      "source": [
        "person.items()"
      ],
      "metadata": {
        "colab": {
          "base_uri": "https://localhost:8080/"
        },
        "id": "6owc0DwbbGCB",
        "outputId": "65f27f9f-8730-417b-9d4f-bc026fd46665"
      },
      "execution_count": null,
      "outputs": [
        {
          "output_type": "execute_result",
          "data": {
            "text/plain": [
              "dict_items([('name', 'Loic'), ('age', '23')])"
            ]
          },
          "metadata": {},
          "execution_count": 22
        }
      ]
    },
    {
      "cell_type": "code",
      "source": [
        "person.values()"
      ],
      "metadata": {
        "colab": {
          "base_uri": "https://localhost:8080/"
        },
        "id": "h84EIZC5cGrz",
        "outputId": "ba2b53f2-5f26-44b0-af70-29bde2d1d772"
      },
      "execution_count": null,
      "outputs": [
        {
          "output_type": "execute_result",
          "data": {
            "text/plain": [
              "dict_values(['Loic', '23'])"
            ]
          },
          "metadata": {},
          "execution_count": 23
        }
      ]
    },
    {
      "cell_type": "code",
      "source": [
        "for key, name in person.items():\n",
        "  print(key, name)"
      ],
      "metadata": {
        "colab": {
          "base_uri": "https://localhost:8080/"
        },
        "id": "NExNuAEHcdpq",
        "outputId": "36345fbd-aea4-4354-9bee-cfb723e44a69"
      },
      "execution_count": null,
      "outputs": [
        {
          "output_type": "stream",
          "name": "stdout",
          "text": [
            "name Loic\n",
            "age 23\n"
          ]
        }
      ]
    },
    {
      "cell_type": "code",
      "source": [
        "#deconstructing variables\n",
        "water = [\"clear\", \"free\", \"cool\"]"
      ],
      "metadata": {
        "id": "uRQD5YpUc0eq"
      },
      "execution_count": null,
      "outputs": []
    },
    {
      "cell_type": "code",
      "source": [
        "#deconstructing variables\n",
        "a,b,c = water"
      ],
      "metadata": {
        "id": "HXhNy42zekra"
      },
      "execution_count": null,
      "outputs": []
    },
    {
      "cell_type": "code",
      "source": [
        "#deconstructing variables\n",
        "a\n",
        "#it explains in 43 we use peron.items because it gives us a tuples of the list (see 39) and with key, names we deconstruct the list first"
      ],
      "metadata": {
        "colab": {
          "base_uri": "https://localhost:8080/",
          "height": 35
        },
        "id": "0nZzVkdKepGs",
        "outputId": "c9683e49-effc-4093-b618-52bf1572c232"
      },
      "execution_count": null,
      "outputs": [
        {
          "output_type": "execute_result",
          "data": {
            "text/plain": [
              "'clear'"
            ],
            "application/vnd.google.colaboratory.intrinsic+json": {
              "type": "string"
            }
          },
          "metadata": {},
          "execution_count": 27
        }
      ]
    },
    {
      "cell_type": "code",
      "source": [
        "#if you have too much to unpack or just need to unpack one use the * before a variable to put the rest of the list on it\n",
        "juice = [\"orange\", \"apple\", \"lemon\"]\n",
        "e, *f = juice\n",
        "f"
      ],
      "metadata": {
        "colab": {
          "base_uri": "https://localhost:8080/"
        },
        "id": "Zo7qUbPOf_7L",
        "outputId": "c71bb352-3f5c-49e3-d24c-6e48b540f3a6"
      },
      "execution_count": null,
      "outputs": [
        {
          "output_type": "execute_result",
          "data": {
            "text/plain": [
              "['apple', 'lemon']"
            ]
          },
          "metadata": {},
          "execution_count": 28
        }
      ]
    },
    {
      "cell_type": "code",
      "source": [
        "#you can replace one or multiple values\n",
        "juice[0:2] = [\"coconut\", \"apricot\"]\n",
        "juice[2:] = [\"pear\"]\n",
        "juice"
      ],
      "metadata": {
        "colab": {
          "base_uri": "https://localhost:8080/"
        },
        "id": "_dliXOGchTT4",
        "outputId": "23a22d77-dca0-4497-f0c0-6ba84d382eb0"
      },
      "execution_count": null,
      "outputs": [
        {
          "output_type": "execute_result",
          "data": {
            "text/plain": [
              "['coconut', 'apricot', 'pear']"
            ]
          },
          "metadata": {},
          "execution_count": 29
        }
      ]
    },
    {
      "cell_type": "code",
      "source": [
        "#you can insert many in the place of one\n",
        "vegetables = [\"tomato\", \"carrot\", \"pumpkin\"]\n",
        "vegetables[1:2]=[\"cucumber\",\"cauliflower\", \"eggplant\", \"leek\"]\n",
        "vegetables"
      ],
      "metadata": {
        "colab": {
          "base_uri": "https://localhost:8080/"
        },
        "id": "KzNmBfnz_SXa",
        "outputId": "e90ef93d-6be2-494f-cd2d-89487340f3e9"
      },
      "execution_count": null,
      "outputs": [
        {
          "output_type": "execute_result",
          "data": {
            "text/plain": [
              "['tomato', 'cucumber', 'cauliflower', 'eggplant', 'leek', 'pumpkin']"
            ]
          },
          "metadata": {},
          "execution_count": 51
        }
      ]
    },
    {
      "cell_type": "code",
      "source": [
        "#lambda function is an small anonymous function with a number of arguments and one expression : \"lambda arguments : expression\" - but to read it you must have a list\n",
        "#here we put an \"s\" to every veggie!\n",
        "newveggies = list(map(lambda vegetable : vegetable + \"s\", vegetables))\n",
        "newveggies"
      ],
      "metadata": {
        "colab": {
          "base_uri": "https://localhost:8080/"
        },
        "id": "-ZvGoKnEAi4V",
        "outputId": "544b95c2-3be9-4fed-9bfb-d53059067228"
      },
      "execution_count": null,
      "outputs": [
        {
          "output_type": "execute_result",
          "data": {
            "text/plain": [
              "['tomatos', 'cucumbers', 'cauliflowers', 'eggplants', 'leeks', 'pumpkins']"
            ]
          },
          "metadata": {},
          "execution_count": 53
        }
      ]
    },
    {
      "cell_type": "code",
      "source": [
        "newveggies2 = list(filter(lambda vegetable : vegetable[-1]== \"r\" , vegetables))\n",
        "newveggies2"
      ],
      "metadata": {
        "colab": {
          "base_uri": "https://localhost:8080/"
        },
        "id": "aOC6TBwQDhl1",
        "outputId": "5ed8e357-a739-4ab0-f528-77a63d5fc133"
      },
      "execution_count": null,
      "outputs": [
        {
          "output_type": "execute_result",
          "data": {
            "text/plain": [
              "['cucumber', 'cauliflower']"
            ]
          },
          "metadata": {},
          "execution_count": 54
        }
      ]
    },
    {
      "cell_type": "code",
      "source": [
        "#another way to write the 53 without map  is List comprehension offers a shorter syntax when you want to create a new list based on the values of an existing list\n",
        "newveggies3 = [vegetable + \"z\" for vegetable in vegetables]\n",
        "newveggies3"
      ],
      "metadata": {
        "colab": {
          "base_uri": "https://localhost:8080/"
        },
        "id": "zL52DZyXE7VX",
        "outputId": "923b23f8-2832-489a-a62b-bea3bcf290d8"
      },
      "execution_count": null,
      "outputs": [
        {
          "output_type": "execute_result",
          "data": {
            "text/plain": [
              "['tomatoz', 'cucumberz', 'cauliflowerz', 'eggplantz', 'leekz', 'pumpkinz']"
            ]
          },
          "metadata": {},
          "execution_count": 57
        }
      ]
    },
    {
      "cell_type": "code",
      "source": [
        "#same with filter\n",
        "newveggies3 = [vegetable + \"z\" for vegetable in vegetables if vegetable[-1]== \"r\"]\n",
        "newveggies3"
      ],
      "metadata": {
        "colab": {
          "base_uri": "https://localhost:8080/"
        },
        "id": "aW103-piF-Ay",
        "outputId": "729dc18d-9f2c-478f-e67d-eb5b1583e2bc"
      },
      "execution_count": null,
      "outputs": [
        {
          "output_type": "execute_result",
          "data": {
            "text/plain": [
              "['cucumberz', 'cauliflowerz']"
            ]
          },
          "metadata": {},
          "execution_count": 59
        }
      ]
    },
    {
      "cell_type": "code",
      "source": [
        "#create a function\n",
        "def sayHello(name):\n",
        "  print(f'Hello {name}')\n",
        "\n",
        "sayHello(\"Mike\")"
      ],
      "metadata": {
        "colab": {
          "base_uri": "https://localhost:8080/"
        },
        "id": "ONOp98PpG7rr",
        "outputId": "c3545979-15aa-43ce-d9bf-8bed91b8d035"
      },
      "execution_count": null,
      "outputs": [
        {
          "output_type": "stream",
          "name": "stdout",
          "text": [
            "Hello Mike\n"
          ]
        }
      ]
    },
    {
      "cell_type": "code",
      "source": [
        "def getSum(num1, num2):\n",
        "  return num1 + num2\n",
        "\n",
        "print(getSum(2,4))\n"
      ],
      "metadata": {
        "colab": {
          "base_uri": "https://localhost:8080/"
        },
        "id": "SnWxzC8-IMB0",
        "outputId": "a4d128a4-3bfa-48ac-e541-00d2cd0d4c33"
      },
      "execution_count": null,
      "outputs": [
        {
          "output_type": "stream",
          "name": "stdout",
          "text": [
            "6\n"
          ]
        }
      ]
    },
    {
      "cell_type": "code",
      "source": [
        "num_loop = [1,2,3,4]\n",
        "for i in num_loop:\n",
        "  print(i)"
      ],
      "metadata": {
        "colab": {
          "base_uri": "https://localhost:8080/"
        },
        "id": "7KjWBYL32-KB",
        "outputId": "9e163999-a234-4aa4-c0c2-ed01bc9745ae"
      },
      "execution_count": null,
      "outputs": [
        {
          "output_type": "stream",
          "name": "stdout",
          "text": [
            "1\n",
            "2\n",
            "3\n",
            "4\n"
          ]
        }
      ]
    },
    {
      "cell_type": "code",
      "source": [
        "for i in range(2,12):\n",
        "  print(i)"
      ],
      "metadata": {
        "colab": {
          "base_uri": "https://localhost:8080/"
        },
        "id": "gS7AM9mw310V",
        "outputId": "143ed0a2-2455-4b7f-fe50-ffa71647b7f4"
      },
      "execution_count": null,
      "outputs": [
        {
          "output_type": "stream",
          "name": "stdout",
          "text": [
            "2\n",
            "3\n",
            "4\n",
            "5\n",
            "6\n",
            "7\n",
            "8\n",
            "9\n",
            "10\n",
            "11\n"
          ]
        }
      ]
    },
    {
      "cell_type": "code",
      "source": [
        "for i in range(0,20,2):\n",
        "  print(i)"
      ],
      "metadata": {
        "colab": {
          "base_uri": "https://localhost:8080/"
        },
        "id": "pMvIpyNU4R0W",
        "outputId": "63aafa4b-900d-4450-8b93-0c99129e4097"
      },
      "execution_count": null,
      "outputs": [
        {
          "output_type": "stream",
          "name": "stdout",
          "text": [
            "0\n",
            "2\n",
            "4\n",
            "6\n",
            "8\n",
            "10\n",
            "12\n",
            "14\n",
            "16\n",
            "18\n"
          ]
        }
      ]
    },
    {
      "cell_type": "code",
      "source": [
        "for i in range(2,15):\n",
        "  if(i == 4): break;\n",
        "  else: print(\"still on it\")"
      ],
      "metadata": {
        "colab": {
          "base_uri": "https://localhost:8080/"
        },
        "id": "gvnCS8bd4tCx",
        "outputId": "aeecac30-7f9d-4eed-9a8e-910e681efce9"
      },
      "execution_count": null,
      "outputs": [
        {
          "output_type": "stream",
          "name": "stdout",
          "text": [
            "still on it\n",
            "still on it\n"
          ]
        }
      ]
    },
    {
      "cell_type": "code",
      "source": [
        "count = 0\n",
        "while count <= 10:\n",
        "  print(f'count {count}')\n",
        "  count+=1"
      ],
      "metadata": {
        "colab": {
          "base_uri": "https://localhost:8080/"
        },
        "id": "h5g8YfbS2WTt",
        "outputId": "5b9dc901-25f7-4dac-f73e-be30c55e6062"
      },
      "execution_count": null,
      "outputs": [
        {
          "output_type": "stream",
          "name": "stdout",
          "text": [
            "count 0\n",
            "count 1\n",
            "count 2\n",
            "count 3\n",
            "count 4\n",
            "count 5\n",
            "count 6\n",
            "count 7\n",
            "count 8\n",
            "count 9\n",
            "count 10\n"
          ]
        }
      ]
    },
    {
      "cell_type": "code",
      "source": [
        "#import a module (on a file)\n",
        "import datetime\n",
        "today = datetime.date.today()\n",
        "print(today)"
      ],
      "metadata": {
        "colab": {
          "base_uri": "https://localhost:8080/"
        },
        "id": "Auo47gOV29As",
        "outputId": "03d4891a-8b88-4b41-bc9a-b16e239f7ffe"
      },
      "execution_count": null,
      "outputs": [
        {
          "output_type": "stream",
          "name": "stdout",
          "text": [
            "2023-05-27\n"
          ]
        }
      ]
    },
    {
      "cell_type": "code",
      "source": [
        "from datetime import date\n",
        "today = date.today()\n",
        "print(today)\n",
        "#python have pip to install modules (pip3 for python3), but if you install it like that you do it globaly, you cna do it in a virtual env (pipenv) and use it as a command line tool as npm!\n",
        "#it is already configured and installed with python 3 on my PC\n",
        "#you can also import yours own modules(cad files with all functions) the same way (as a file or by function) => nothing to do in the module itself, no need to export as in js"
      ],
      "metadata": {
        "colab": {
          "base_uri": "https://localhost:8080/"
        },
        "id": "bNCqV8zx518z",
        "outputId": "4f7d228b-4805-4149-997e-1727de57e335"
      },
      "execution_count": null,
      "outputs": [
        {
          "output_type": "stream",
          "name": "stdout",
          "text": [
            "2023-05-27\n"
          ]
        }
      ]
    },
    {
      "cell_type": "code",
      "source": [
        "#class -OOP with prop and methods - (almost everything in python is an object)\n",
        "# it is similar as in java or python\n",
        "class User:\n",
        "  #Constructor function that runs when you instanciate an object form a class - self remplace this\n",
        "  def __init__(self, name, email, age):\n",
        "    self.name = name\n",
        "    self.email = email\n",
        "    self.age = age\n",
        "\n",
        "  # you have to use self and not name directly\n",
        "  def greeting(self):\n",
        "    return(f'My name is {self.name} and I am {self.age}')\n",
        "  \n",
        "  # ici une methode qui fait une action pas de return, attention au self\n",
        "  def has_birthday(self):\n",
        "    self.age += 1\n",
        "\n",
        "#Initialize user obj\n",
        "john = User('John Edwards', 'test@test.fr', 37)\n",
        "print(type(john))\n",
        "print(john.name)\n",
        "#tricky : return dosen't rpint it just return it, but if 'john.greeting()' is the last called it is printed since the interactive prompt print the las thing returned\n",
        "#john.greeting()\n",
        "print(john.greeting())\n",
        "john.has_birthday()\n",
        "john.age\n",
        "\n"
      ],
      "metadata": {
        "colab": {
          "base_uri": "https://localhost:8080/"
        },
        "id": "C0dSy5_AAHpB",
        "outputId": "40a1d0f2-77b7-496c-fe72-2a1768be6796"
      },
      "execution_count": null,
      "outputs": [
        {
          "output_type": "stream",
          "name": "stdout",
          "text": [
            "<class '__main__.User'>\n",
            "John Edwards\n",
            "My name is John Edwards and I am 37\n"
          ]
        },
        {
          "output_type": "execute_result",
          "data": {
            "text/plain": [
              "38"
            ]
          },
          "metadata": {},
          "execution_count": 28
        }
      ]
    },
    {
      "cell_type": "code",
      "source": [
        "#you can also extend a class (but not extend keyword like in js and others) only pass the method as a parameter\n"
      ],
      "metadata": {
        "id": "NcUI2FO91Tox"
      },
      "execution_count": null,
      "outputs": []
    }
  ]
}